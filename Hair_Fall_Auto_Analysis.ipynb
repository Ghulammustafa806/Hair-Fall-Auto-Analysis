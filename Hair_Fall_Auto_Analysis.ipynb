{
 "cells": [
  {
   "cell_type": "markdown",
   "id": "c16544b6",
   "metadata": {},
   "source": [
    "# AUTOMATED HAIR FALL ANALYSIS \n",
    "*Generated on 2025-06-01 13:41:28*"
   ]
  },
  {
   "cell_type": "code",
   "execution_count": null,
   "id": "d30fbd88",
   "metadata": {},
   "outputs": [],
   "source": [
    "import pandas as pd\n",
    "print(\"⚡ Loading data...\")\n",
    "df = pd.read_csv(r'C:\\Users\\GHULAM MUSTAFA\\Desktop\\automatic system\\Hair_Fall_Sensor_Dataset.csv')\n",
    "print(f\"✅ Loaded {len(df)} records\")\n",
    "df.head()"
   ]
  },
  {
   "cell_type": "code",
   "execution_count": null,
   "id": "305ef8b7",
   "metadata": {},
   "outputs": [],
   "source": [
    "# AUTOMATED ANALYSIS\n",
    "print(\"\\n🔍 Running analysis...\")\n",
    "\n",
    "# 1. Basic stats\n",
    "print(\"\\n📊 Basic Statistics:\")\n",
    "display(df.describe())\n",
    "\n",
    "# 2. Label distribution\n",
    "print(\"\\n🏷️ Label Counts:\")\n",
    "display(df['label'].value_counts())\n",
    "\n",
    "# 3. Auto-visualization\n",
    "import matplotlib.pyplot as plt\n",
    "import seaborn as sns\n",
    "\n",
    "fig, axs = plt.subplots(1, 3, figsize=(15,4))\n",
    "for i, col in enumerate(['motion', 'temperature', 'distance']):\n",
    "    sns.histplot(df[col], ax=axs[i], kde=True)\n",
    "    axs[i].set_title(f'{col.title()} Distribution')\n",
    "plt.tight_layout()\n",
    "plt.show()"
   ]
  }
 ],
 "metadata": {},
 "nbformat": 4,
 "nbformat_minor": 5
}
