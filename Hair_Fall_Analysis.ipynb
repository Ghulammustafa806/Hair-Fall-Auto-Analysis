{
 "cells": [
  {
   "cell_type": "markdown",
   "id": "04a166a3",
   "metadata": {},
   "source": [
    "# Hair Fall Sensor Analysis"
   ]
  },
  {
   "cell_type": "code",
   "execution_count": null,
   "id": "09abc68f",
   "metadata": {},
   "outputs": [],
   "source": [
    "# Essential imports\n",
    "import pandas as pd\n",
    "import matplotlib.pyplot as plt\n",
    "import seaborn as sns\n",
    "import warnings\n",
    "warnings.filterwarnings('ignore')\n",
    "\n",
    "print(\"Libraries loaded successfully!\")"
   ]
  },
  {
   "cell_type": "markdown",
   "id": "bdb3f17d",
   "metadata": {},
   "source": [
    "## 1. Data Loading"
   ]
  },
  {
   "cell_type": "code",
   "execution_count": null,
   "id": "3a66ecf3",
   "metadata": {},
   "outputs": [],
   "source": [
    "try:\n",
    "    df = pd.read_csv(r'C:\\Users\\GHULAM MUSTAFA\\Desktop\\automatic system\\Hair_Fall_Sensor_Dataset.csv')\n",
    "    print(f\"Data loaded successfully! Shape: {df.shape}\")\n",
    "    print(\"\\nFirst 3 rows:\")\n",
    "    df.head(3)\n",
    "except Exception as e:\n",
    "    print(f\"Error loading data: {str(e)}\")\n",
    "    raise"
   ]
  },
  {
   "cell_type": "markdown",
   "id": "6f5b1800",
   "metadata": {},
   "source": [
    "## 2. Sensor Distribution"
   ]
  },
  {
   "cell_type": "code",
   "execution_count": null,
   "id": "0dbd34ee",
   "metadata": {},
   "outputs": [],
   "source": [
    "# Sensor ID analysis\n",
    "print(\"Sensor Value Counts:\")\n",
    "print(df['sensor_id'].value_counts())\n",
    "\n",
    "plt.figure(figsize=(10,5))\n",
    "sns.countplot(data=df, x='sensor_id', order=df['sensor_id'].value_counts().index)\n",
    "plt.title(\"Sensor Distribution\")\n",
    "plt.xticks(rotation=45)\n",
    "plt.show()"
   ]
  },
  {
   "cell_type": "markdown",
   "id": "4061b185",
   "metadata": {},
   "source": [
    "## 3. Numerical Features"
   ]
  },
  {
   "cell_type": "code",
   "execution_count": null,
   "id": "c62d3f0c",
   "metadata": {},
   "outputs": [],
   "source": [
    "# Create subplots\n",
    "fig, axes = plt.subplots(2, 2, figsize=(12, 10))\n",
    "fig.suptitle(\"Numerical Features Distribution\")\n",
    "\n",
    "# Plot distributions\n",
    "sns.histplot(data=df, x='motion', kde=True, ax=axes[0, 0])\n",
    "sns.histplot(data=df, x='temperature', kde=True, ax=axes[0, 1])\n",
    "sns.histplot(data=df, x='distance', kde=True, ax=axes[1, 0])\n",
    "\n",
    "# Correlation heatmap\n",
    "corr = df[['motion','temperature','distance']].corr()\n",
    "sns.heatmap(corr, annot=True, cmap='coolwarm', ax=axes[1, 1])\n",
    "plt.tight_layout()\n",
    "plt.show()"
   ]
  },
  {
   "cell_type": "markdown",
   "id": "7d7df22f",
   "metadata": {},
   "source": [
    "## 4. Label Distribution"
   ]
  },
  {
   "cell_type": "code",
   "execution_count": null,
   "id": "6c7f6f9f",
   "metadata": {},
   "outputs": [],
   "source": [
    "# Label analysis\n",
    "print(\"Label Distribution:\")\n",
    "print(df['label'].value_counts())\n",
    "\n",
    "plt.figure(figsize=(8,6))\n",
    "plt.pie(df['label'].value_counts(), \n",
    "        labels=['No Hair Fall', 'Hair Fall'], \n",
    "        autopct='%1.1f%%',\n",
    "        startangle=90)\n",
    "plt.title(\"Hair Fall Detection Labels\")\n",
    "plt.show()"
   ]
  }
 ],
 "metadata": {},
 "nbformat": 4,
 "nbformat_minor": 5
}
